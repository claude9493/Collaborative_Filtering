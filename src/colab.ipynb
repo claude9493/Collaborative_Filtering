{
  "nbformat": 4,
  "nbformat_minor": 0,
  "metadata": {
    "colab": {
      "name": "CF.ipynb",
      "provenance": [],
      "collapsed_sections": [],
      "authorship_tag": "ABX9TyN8fKIwnZuryTXVPCJygKLW",
      "include_colab_link": true
    },
    "kernelspec": {
      "name": "python3",
      "display_name": "Python 3"
    },
    "language_info": {
      "name": "python"
    },
    "accelerator": "GPU"
  },
  "cells": [
    {
      "cell_type": "markdown",
      "metadata": {
        "id": "view-in-github",
        "colab_type": "text"
      },
      "source": [
        "<a href=\"https://colab.research.google.com/github/claude9493/Collaborative_Filtering/blob/master/src/colab.ipynb\" target=\"_parent\"><img src=\"https://colab.research.google.com/assets/colab-badge.svg\" alt=\"Open In Colab\"/></a>"
      ]
    },
    {
      "cell_type": "code",
      "source": [
        "!git clone git@github.com:claude9493/Collaborative_Filtering.git"
      ],
      "metadata": {
        "colab": {
          "base_uri": "https://localhost:8080/"
        },
        "id": "qd5gPhtRVE_8",
        "outputId": "44a073de-bddc-4eca-ac85-99e224eb3dcd"
      },
      "execution_count": 5,
      "outputs": [
        {
          "output_type": "stream",
          "name": "stdout",
          "text": [
            "Cloning into 'Collaborative_Filtering'...\n",
            "Host key verification failed.\r\n",
            "fatal: Could not read from remote repository.\n",
            "\n",
            "Please make sure you have the correct access rights\n",
            "and the repository exists.\n",
            "[Errno 2] No such file or directory: 'src'\n",
            "/content\n"
          ]
        }
      ]
    },
    {
      "cell_type": "code",
      "source": [
        "%cd src"
      ],
      "metadata": {
        "colab": {
          "base_uri": "https://localhost:8080/"
        },
        "id": "IVTVKmHlZsLI",
        "outputId": "9974c3ac-4b1d-4298-cbc6-4b766ee4a3ba"
      },
      "execution_count": null,
      "outputs": [
        {
          "output_type": "stream",
          "name": "stdout",
          "text": [
            "/content/src\n"
          ]
        }
      ]
    },
    {
      "cell_type": "code",
      "source": [
        "!pip install tensorboardX"
      ],
      "metadata": {
        "colab": {
          "base_uri": "https://localhost:8080/"
        },
        "id": "F3dqJenAbtLu",
        "outputId": "d9a9ff41-7c13-4433-90be-7ba0397dc3cd"
      },
      "execution_count": null,
      "outputs": [
        {
          "output_type": "stream",
          "name": "stdout",
          "text": [
            "Collecting tensorboardX\n",
            "  Downloading tensorboardX-2.5-py2.py3-none-any.whl (125 kB)\n",
            "\u001b[?25l\r\u001b[K     |██▋                             | 10 kB 21.3 MB/s eta 0:00:01\r\u001b[K     |█████▎                          | 20 kB 22.0 MB/s eta 0:00:01\r\u001b[K     |███████▉                        | 30 kB 24.7 MB/s eta 0:00:01\r\u001b[K     |██████████▌                     | 40 kB 15.1 MB/s eta 0:00:01\r\u001b[K     |█████████████                   | 51 kB 6.6 MB/s eta 0:00:01\r\u001b[K     |███████████████▊                | 61 kB 7.6 MB/s eta 0:00:01\r\u001b[K     |██████████████████▎             | 71 kB 8.6 MB/s eta 0:00:01\r\u001b[K     |█████████████████████           | 81 kB 9.3 MB/s eta 0:00:01\r\u001b[K     |███████████████████████▌        | 92 kB 10.2 MB/s eta 0:00:01\r\u001b[K     |██████████████████████████▏     | 102 kB 11.0 MB/s eta 0:00:01\r\u001b[K     |████████████████████████████▊   | 112 kB 11.0 MB/s eta 0:00:01\r\u001b[K     |███████████████████████████████▍| 122 kB 11.0 MB/s eta 0:00:01\r\u001b[K     |████████████████████████████████| 125 kB 11.0 MB/s \n",
            "\u001b[?25hRequirement already satisfied: six in /usr/local/lib/python3.7/dist-packages (from tensorboardX) (1.15.0)\n",
            "Requirement already satisfied: protobuf>=3.8.0 in /usr/local/lib/python3.7/dist-packages (from tensorboardX) (3.17.3)\n",
            "Requirement already satisfied: numpy in /usr/local/lib/python3.7/dist-packages (from tensorboardX) (1.21.5)\n",
            "Installing collected packages: tensorboardX\n",
            "Successfully installed tensorboardX-2.5\n"
          ]
        }
      ]
    },
    {
      "cell_type": "code",
      "source": [
        "!zip -r summary.zip runs checkpoints"
      ],
      "metadata": {
        "colab": {
          "base_uri": "https://localhost:8080/"
        },
        "id": "xeIluySmzLq9",
        "outputId": "3400643c-4bd7-42ee-b686-7c2cbeecc77a"
      },
      "execution_count": 19,
      "outputs": [
        {
          "output_type": "stream",
          "name": "stdout",
          "text": [
            "updating: runs/ (stored 0%)\n",
            "updating: runs/br_affine_factor32neg4-implicit/ (stored 0%)\n",
            "updating: runs/br_affine_factor32neg4-implicit/events.out.tfevents.1646204648.8f347ca148c2 (deflated 64%)\n",
            "updating: runs/br_affine_factor32neg4-implicit/events.out.tfevents.1646204527.8f347ca148c2 (deflated 22%)\n",
            "updating: checkpoints/ (stored 0%)\n",
            "updating: checkpoints/br_affine_factor32neg4-implicit_Epoch24_HR0.6502_NDCG0.3850.model (deflated 11%)\n",
            "updating: checkpoints/br_affine_factor32neg4-implicit_Epoch42_HR0.6545_NDCG0.3840.model (deflated 12%)\n",
            "updating: checkpoints/br_affine_factor32neg4-implicit_Epoch11_HR0.6445_NDCG0.3777.model (deflated 10%)\n",
            "updating: checkpoints/br_affine_factor32neg4-implicit_Epoch4_HR0.6207_NDCG0.3589.model (deflated 9%)\n",
            "updating: checkpoints/br_affine_factor32neg4-implicit_Epoch9_HR0.6399_NDCG0.3731.model (deflated 10%)\n",
            "updating: checkpoints/br_affine_factor32neg4-implicit_Epoch8_HR0.6373_NDCG0.3739.model (deflated 10%)\n",
            "updating: checkpoints/br_affine_factor32neg4-implicit_Epoch13_HR0.6488_NDCG0.3806.model (deflated 10%)\n",
            "updating: checkpoints/br_affine_factor32neg4-implicit_Epoch34_HR0.6469_NDCG0.3829.model (deflated 11%)\n",
            "updating: checkpoints/br_affine_factor32neg4-implicit_Epoch28_HR0.6513_NDCG0.3835.model (deflated 11%)\n",
            "updating: checkpoints/br_affine_factor32neg4-implicit_Epoch20_HR0.6515_NDCG0.3814.model (deflated 11%)\n",
            "updating: checkpoints/br_affine_factor32neg4-implicit_Epoch44_HR0.6478_NDCG0.3816.model (deflated 12%)\n",
            "updating: checkpoints/br_affine_factor32neg4-implicit_Epoch48_HR0.6493_NDCG0.3819.model (deflated 12%)\n",
            "updating: checkpoints/br_affine_factor32neg4-implicit_Epoch6_HR0.6369_NDCG0.3719.model (deflated 9%)\n",
            "updating: checkpoints/br_affine_factor32neg4-implicit_Epoch30_HR0.6520_NDCG0.3840.model (deflated 11%)\n",
            "updating: checkpoints/br_affine_factor32neg4-implicit_Epoch47_HR0.6526_NDCG0.3821.model (deflated 12%)\n",
            "updating: checkpoints/br_affine_factor32neg4-implicit_Epoch29_HR0.6530_NDCG0.3837.model (deflated 11%)\n",
            "updating: checkpoints/br_affine_factor32neg4-implicit_Epoch37_HR0.6445_NDCG0.3801.model (deflated 11%)\n",
            "updating: checkpoints/br_affine_factor32neg4-implicit_Epoch26_HR0.6493_NDCG0.3847.model (deflated 11%)\n",
            "updating: checkpoints/br_affine_factor32neg4-implicit_Epoch14_HR0.6440_NDCG0.3790.model (deflated 10%)\n",
            "updating: checkpoints/br_affine_factor32neg4-implicit_Epoch18_HR0.6522_NDCG0.3875.model (deflated 11%)\n",
            "updating: checkpoints/br_affine_factor32neg4-implicit_Epoch5_HR0.6316_NDCG0.3683.model (deflated 9%)\n",
            "updating: checkpoints/br_affine_factor32neg4-implicit_Epoch35_HR0.6515_NDCG0.3845.model (deflated 11%)\n",
            "updating: checkpoints/br_affine_factor32neg4-implicit_Epoch32_HR0.6474_NDCG0.3820.model (deflated 11%)\n",
            "updating: checkpoints/br_affine_factor32neg4-implicit_Epoch49_HR0.6495_NDCG0.3832.model (deflated 12%)\n",
            "updating: checkpoints/br_affine_factor32neg4-implicit_Epoch36_HR0.6474_NDCG0.3816.model (deflated 11%)\n",
            "updating: checkpoints/br_affine_factor32neg4-implicit_Epoch17_HR0.6508_NDCG0.3834.model (deflated 11%)\n",
            "updating: checkpoints/br_affine_factor32neg4-implicit_Epoch39_HR0.6492_NDCG0.3810.model (deflated 11%)\n",
            "updating: checkpoints/br_affine_factor32neg4-implicit_Epoch15_HR0.6497_NDCG0.3809.model (deflated 11%)\n",
            "updating: checkpoints/br_affine_factor32neg4-implicit_Epoch46_HR0.6540_NDCG0.3869.model (deflated 12%)\n",
            "updating: checkpoints/br_affine_factor32neg4-implicit_Epoch33_HR0.6487_NDCG0.3825.model (deflated 11%)\n",
            "updating: checkpoints/br_affine_factor32neg4-implicit_Epoch1_HR0.5669_NDCG0.3188.model (deflated 8%)\n",
            "updating: checkpoints/br_affine_factor32neg4-implicit_Epoch25_HR0.6510_NDCG0.3838.model (deflated 11%)\n",
            "updating: checkpoints/br_affine_factor32neg4-implicit_Epoch7_HR0.6358_NDCG0.3707.model (deflated 10%)\n",
            "updating: checkpoints/br_affine_factor32neg4-implicit_Epoch31_HR0.6510_NDCG0.3845.model (deflated 11%)\n",
            "updating: checkpoints/br_affine_factor32neg4-implicit_Epoch23_HR0.6530_NDCG0.3836.model (deflated 11%)\n",
            "updating: checkpoints/br_affine_factor32neg4-implicit_Epoch10_HR0.6488_NDCG0.3792.model (deflated 10%)\n",
            "updating: checkpoints/br_affine_factor32neg4-implicit_Epoch2_HR0.5974_NDCG0.3407.model (deflated 8%)\n",
            "updating: checkpoints/br_affine_factor32neg4-implicit_Epoch22_HR0.6510_NDCG0.3827.model (deflated 11%)\n",
            "updating: checkpoints/br_affine_factor32neg4-implicit_Epoch38_HR0.6548_NDCG0.3831.model (deflated 11%)\n",
            "updating: checkpoints/br_affine_factor32neg4-implicit_Epoch27_HR0.6497_NDCG0.3828.model (deflated 11%)\n",
            "updating: checkpoints/br_affine_factor32neg4-implicit_Epoch21_HR0.6545_NDCG0.3853.model (deflated 11%)\n",
            "updating: checkpoints/br_affine_factor32neg4-implicit_Epoch41_HR0.6497_NDCG0.3819.model (deflated 12%)\n",
            "updating: checkpoints/br_affine_factor32neg4-implicit_Epoch12_HR0.6502_NDCG0.3789.model (deflated 10%)\n",
            "updating: checkpoints/br_affine_factor32neg4-implicit_Epoch40_HR0.6507_NDCG0.3834.model (deflated 12%)\n",
            "updating: checkpoints/br_affine_factor32neg4-implicit_Epoch50_HR0.6510_NDCG0.3834.model (deflated 12%)\n",
            "updating: checkpoints/br_affine_factor32neg4-implicit_Epoch43_HR0.6445_NDCG0.3794.model (deflated 12%)\n",
            "updating: checkpoints/br_affine_factor32neg4-implicit_Epoch16_HR0.6447_NDCG0.3803.model (deflated 11%)\n",
            "updating: checkpoints/br_affine_factor32neg4-implicit_Epoch3_HR0.6098_NDCG0.3514.model (deflated 9%)\n",
            "updating: checkpoints/br_affine_factor32neg4-implicit_Epoch19_HR0.6478_NDCG0.3805.model (deflated 11%)\n",
            "updating: checkpoints/br_affine_factor32neg4-implicit_Epoch0_HR0.4811_NDCG0.2656.model (deflated 8%)\n",
            "updating: checkpoints/br_affine_factor32neg4-implicit_Epoch45_HR0.6502_NDCG0.3822.model (deflated 12%)\n"
          ]
        }
      ]
    },
    {
      "cell_type": "code",
      "source": [
        "!python train.py --model br"
      ],
      "metadata": {
        "colab": {
          "base_uri": "https://localhost:8080/"
        },
        "id": "Wr5WYOZmaw7-",
        "outputId": "a1e111a9-4813-4037-a021-8b297afec403"
      },
      "execution_count": 16,
      "outputs": [
        {
          "output_type": "stream",
          "name": "stdout",
          "text": [
            "Range of userId is [0, 6039]\n",
            "Range of itemId is [0, 3705]\n",
            "The br model is to be trained.\n",
            "Epoch 0:   0% 0/200 [00:00<?, ?it/s]/content/src/metrics.py:57: SettingWithCopyWarning: \n",
            "A value is trying to be set on a copy of a slice from a DataFrame.\n",
            "Try using .loc[row_indexer,col_indexer] = value instead\n",
            "\n",
            "See the caveats in the documentation: https://pandas.pydata.org/pandas-docs/stable/user_guide/indexing.html#returning-a-view-versus-a-copy\n",
            "  test_in_top_k['ndcg'] = test_in_top_k['rank'].apply(lambda x: math.log(2) / math.log(1 + x)) # the rank starts from 1\n",
            "[Evluating Epoch 0] HR = 0.4811, NDCG = 0.2656\n",
            "Epoch 1:   0% 1/200 [02:43<9:00:52, 163.08s/it][Evluating Epoch 1] HR = 0.5669, NDCG = 0.3188\n",
            "Epoch 2:   1% 2/200 [05:24<8:54:13, 161.89s/it][Evluating Epoch 2] HR = 0.5974, NDCG = 0.3407\n",
            "Epoch 3:   2% 3/200 [08:07<8:53:14, 162.41s/it][Evluating Epoch 3] HR = 0.6098, NDCG = 0.3514\n",
            "Epoch 4:   2% 4/200 [10:48<8:49:11, 162.00s/it][Evluating Epoch 4] HR = 0.6207, NDCG = 0.3589\n",
            "Epoch 5:   2% 5/200 [13:27<8:43:30, 161.08s/it][Evluating Epoch 5] HR = 0.6316, NDCG = 0.3683\n",
            "Epoch 6:   3% 6/200 [16:08<8:40:14, 160.90s/it][Evluating Epoch 6] HR = 0.6369, NDCG = 0.3719\n",
            "Epoch 7:   4% 7/200 [18:47<8:35:35, 160.29s/it][Evluating Epoch 7] HR = 0.6358, NDCG = 0.3707\n",
            "Epoch 8:   4% 8/200 [21:26<8:31:35, 159.87s/it][Evluating Epoch 8] HR = 0.6373, NDCG = 0.3739\n",
            "Epoch 9:   4% 9/200 [24:04<8:27:06, 159.30s/it][Evluating Epoch 9] HR = 0.6399, NDCG = 0.3731\n",
            "Epoch 10:   5% 10/200 [26:42<8:22:42, 158.75s/it][Evluating Epoch 10] HR = 0.6488, NDCG = 0.3792\n",
            "Epoch 11:   6% 11/200 [29:19<8:18:58, 158.41s/it][Evluating Epoch 11] HR = 0.6445, NDCG = 0.3777\n",
            "Epoch 12:   6% 12/200 [31:56<8:15:07, 158.02s/it][Evluating Epoch 12] HR = 0.6502, NDCG = 0.3789\n",
            "Epoch 13:   6% 13/200 [34:34<8:12:17, 157.95s/it][Evluating Epoch 13] HR = 0.6488, NDCG = 0.3806\n",
            "Epoch 14:   7% 14/200 [37:13<8:10:48, 158.33s/it][Evluating Epoch 14] HR = 0.6440, NDCG = 0.3790\n",
            "Epoch 15:   8% 15/200 [39:50<8:07:00, 157.95s/it][Evluating Epoch 15] HR = 0.6497, NDCG = 0.3809\n",
            "Epoch 16:   8% 16/200 [42:28<8:03:34, 157.69s/it][Evluating Epoch 16] HR = 0.6447, NDCG = 0.3803\n",
            "Epoch 17:   8% 17/200 [45:06<8:01:23, 157.83s/it][Evluating Epoch 17] HR = 0.6508, NDCG = 0.3834\n",
            "Epoch 18:   9% 18/200 [47:44<7:58:55, 157.89s/it][Evluating Epoch 18] HR = 0.6522, NDCG = 0.3875\n",
            "Epoch 19:  10% 19/200 [50:22<7:57:06, 158.16s/it][Evluating Epoch 19] HR = 0.6478, NDCG = 0.3805\n",
            "Epoch 20:  10% 20/200 [53:03<7:56:25, 158.81s/it][Evluating Epoch 20] HR = 0.6515, NDCG = 0.3814\n",
            "Epoch 21:  10% 21/200 [55:44<7:55:29, 159.38s/it][Evluating Epoch 21] HR = 0.6545, NDCG = 0.3853\n",
            "Epoch 22:  11% 22/200 [58:23<7:53:20, 159.55s/it][Evluating Epoch 22] HR = 0.6510, NDCG = 0.3827\n",
            "Epoch 23:  12% 23/200 [1:01:02<7:49:40, 159.21s/it][Evluating Epoch 23] HR = 0.6530, NDCG = 0.3836\n",
            "Epoch 24:  12% 24/200 [1:03:40<7:46:16, 158.96s/it][Evluating Epoch 24] HR = 0.6502, NDCG = 0.3850\n",
            "Epoch 25:  12% 25/200 [1:06:19<7:43:20, 158.86s/it][Evluating Epoch 25] HR = 0.6510, NDCG = 0.3838\n",
            "Epoch 26:  13% 26/200 [1:08:58<7:41:13, 159.04s/it][Evluating Epoch 26] HR = 0.6493, NDCG = 0.3847\n",
            "Epoch 27:  14% 27/200 [1:11:38<7:39:19, 159.30s/it][Evluating Epoch 27] HR = 0.6497, NDCG = 0.3828\n",
            "Epoch 28:  14% 28/200 [1:14:18<7:36:54, 159.39s/it][Evluating Epoch 28] HR = 0.6513, NDCG = 0.3835\n",
            "Epoch 29:  14% 29/200 [1:16:56<7:32:55, 158.92s/it][Evluating Epoch 29] HR = 0.6530, NDCG = 0.3837\n",
            "Epoch 30:  15% 30/200 [1:19:33<7:29:16, 158.57s/it][Evluating Epoch 30] HR = 0.6520, NDCG = 0.3840\n",
            "Epoch 31:  16% 31/200 [1:22:11<7:25:43, 158.25s/it][Evluating Epoch 31] HR = 0.6510, NDCG = 0.3845\n",
            "Epoch 32:  16% 32/200 [1:24:48<7:22:05, 157.89s/it][Evluating Epoch 32] HR = 0.6474, NDCG = 0.3820\n",
            "Epoch 33:  16% 33/200 [1:27:26<7:19:20, 157.85s/it][Evluating Epoch 33] HR = 0.6487, NDCG = 0.3825\n",
            "Epoch 34:  17% 34/200 [1:30:04<7:17:06, 157.99s/it][Evluating Epoch 34] HR = 0.6469, NDCG = 0.3829\n",
            "Epoch 35:  18% 35/200 [1:32:42<7:14:21, 157.95s/it][Evluating Epoch 35] HR = 0.6515, NDCG = 0.3845\n",
            "Epoch 36:  18% 36/200 [1:35:19<7:11:18, 157.79s/it][Evluating Epoch 36] HR = 0.6474, NDCG = 0.3816\n",
            "Epoch 37:  18% 37/200 [1:37:56<7:07:52, 157.50s/it][Evluating Epoch 37] HR = 0.6445, NDCG = 0.3801\n",
            "Epoch 38:  19% 38/200 [1:40:35<7:06:05, 157.81s/it][Evluating Epoch 38] HR = 0.6548, NDCG = 0.3831\n",
            "Epoch 39:  20% 39/200 [1:43:14<7:04:34, 158.23s/it][Evluating Epoch 39] HR = 0.6492, NDCG = 0.3810\n",
            "Epoch 40:  20% 40/200 [1:45:52<7:01:58, 158.24s/it][Evluating Epoch 40] HR = 0.6507, NDCG = 0.3834\n",
            "Epoch 41:  20% 41/200 [1:48:30<6:58:58, 158.11s/it][Evluating Epoch 41] HR = 0.6497, NDCG = 0.3819\n",
            "Epoch 42:  21% 42/200 [1:51:07<6:55:43, 157.87s/it][Evluating Epoch 42] HR = 0.6545, NDCG = 0.3840\n",
            "Epoch 43:  22% 43/200 [1:53:44<6:51:58, 157.44s/it][Evluating Epoch 43] HR = 0.6445, NDCG = 0.3794\n",
            "Epoch 44:  22% 44/200 [1:56:20<6:48:29, 157.11s/it][Evluating Epoch 44] HR = 0.6478, NDCG = 0.3816\n",
            "Epoch 45:  22% 45/200 [1:58:57<6:45:47, 157.08s/it][Evluating Epoch 45] HR = 0.6502, NDCG = 0.3822\n",
            "Epoch 46:  23% 46/200 [2:01:33<6:42:26, 156.79s/it][Evluating Epoch 46] HR = 0.6540, NDCG = 0.3869\n",
            "Epoch 47:  24% 47/200 [2:04:09<6:39:24, 156.63s/it][Evluating Epoch 47] HR = 0.6526, NDCG = 0.3821\n",
            "Epoch 48:  24% 48/200 [2:06:46<6:36:42, 156.60s/it][Evluating Epoch 48] HR = 0.6493, NDCG = 0.3819\n",
            "Epoch 49:  24% 49/200 [2:09:26<6:36:31, 157.56s/it][Evluating Epoch 49] HR = 0.6495, NDCG = 0.3832\n",
            "Epoch 50:  25% 50/200 [2:12:03<6:33:46, 157.51s/it][Evluating Epoch 50] HR = 0.6510, NDCG = 0.3834\n",
            "Epoch 51:  26% 51/200 [2:15:27<6:35:45, 159.37s/it]\n",
            "Traceback (most recent call last):\n",
            "  File \"train.py\", line 71, in <module>\n",
            "    main(args)\n",
            "  File \"train.py\", line 59, in main\n",
            "    engine.train_an_epoch(train_loader, epoch_id=epoch)\n",
            "  File \"/content/src/beta.py\", line 89, in train_an_epoch\n",
            "    super().train_an_epoch(train_loader, epoch_id)\n",
            "  File \"/content/src/engine.py\", line 42, in train_an_epoch\n",
            "    for batch_id, batch in enumerate(train_loader):\n",
            "  File \"/usr/local/lib/python3.7/dist-packages/torch/utils/data/dataloader.py\", line 521, in __next__\n",
            "    data = self._next_data()\n",
            "  File \"/usr/local/lib/python3.7/dist-packages/torch/utils/data/dataloader.py\", line 561, in _next_data\n",
            "    data = self._dataset_fetcher.fetch(index)  # may raise StopIteration\n",
            "  File \"/usr/local/lib/python3.7/dist-packages/torch/utils/data/_utils/fetch.py\", line 49, in fetch\n",
            "    data = [self.dataset[idx] for idx in possibly_batched_index]\n",
            "  File \"/usr/local/lib/python3.7/dist-packages/torch/utils/data/_utils/fetch.py\", line 49, in <listcomp>\n",
            "    data = [self.dataset[idx] for idx in possibly_batched_index]\n",
            "  File \"/content/src/data.py\", line 23, in __getitem__\n",
            "    return self.user_tensor[index], self.item_tensor[index], self.target_tensor[index]\n",
            "KeyboardInterrupt\n"
          ]
        }
      ]
    }
  ]
}