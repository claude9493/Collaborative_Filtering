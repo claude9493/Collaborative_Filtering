{
  "nbformat": 4,
  "nbformat_minor": 0,
  "metadata": {
    "colab": {
      "name": "CF.ipynb",
      "provenance": [],
      "collapsed_sections": [],
      "include_colab_link": true
    },
    "kernelspec": {
      "name": "python3",
      "display_name": "Python 3"
    },
    "language_info": {
      "name": "python"
    },
    "accelerator": "GPU"
  },
  "cells": [
    {
      "cell_type": "markdown",
      "metadata": {
        "id": "view-in-github",
        "colab_type": "text"
      },
      "source": [
        "<a href=\"https://colab.research.google.com/github/claude9493/Collaborative_Filtering/blob/master/src/colab.ipynb\" target=\"_parent\"><img src=\"https://colab.research.google.com/assets/colab-badge.svg\" alt=\"Open In Colab\"/></a>"
      ]
    },
    {
      "cell_type": "code",
      "source": [
        "!git clone https://github.com/claude9493/Collaborative_Filtering.git\n",
        "!mv ./Collaborative_Filtering/src/ ./\n",
        "%cd src\n",
        "!mkdir {runs,checkpoints}"
      ],
      "metadata": {
        "id": "qd5gPhtRVE_8"
      },
      "execution_count": null,
      "outputs": []
    },
    {
      "cell_type": "code",
      "source": [
        "import time\n",
        "import shutil\n",
        "from google.colab import files, drive\n",
        "drive.mount('/content/gdrive')"
      ],
      "metadata": {
        "id": "LjIu8nVgGAeH",
        "outputId": "76da1a8e-3405-4e0e-a555-ca5ed99ff694",
        "colab": {
          "base_uri": "https://localhost:8080/"
        }
      },
      "execution_count": 43,
      "outputs": [
        {
          "output_type": "stream",
          "name": "stdout",
          "text": [
            "Drive already mounted at /content/gdrive; to attempt to forcibly remount, call drive.mount(\"/content/gdrive\", force_remount=True).\n"
          ]
        }
      ]
    },
    {
      "cell_type": "code",
      "source": [
        "!python train.py --model mf --epoch 50"
      ],
      "metadata": {
        "colab": {
          "base_uri": "https://localhost:8080/"
        },
        "id": "Wr5WYOZmaw7-",
        "outputId": "4916fcaa-26da-48fc-8bb4-ed020bf5f6ff"
      },
      "execution_count": 21,
      "outputs": [
        {
          "output_type": "stream",
          "name": "stdout",
          "text": [
            "usage: train.py [-h] [--model {mf,gmf,ee,mlp,neumf,br}]\n",
            "train.py: error: unrecognized arguments: --epoch 50\n"
          ]
        }
      ]
    },
    {
      "cell_type": "code",
      "source": [
        "timestamp = int(time.time())\n",
        "shutil.make_archive(f'runs{timestamp}', 'zip', 'runs')\n",
        "shutil.make_archive(f'checkpoints{timestamp}', 'zip', 'checkpoints')\n",
        "\n",
        "shutil.copy(f'runs{timestamp}.zip', '../gdrive/MyDrive/Collaborative_Filtering/')\n",
        "shutil.copy(f'checkpoints{timestamp}.zip', '../gdrive/MyDrive/Collaborative_Filtering/')"
      ],
      "metadata": {
        "colab": {
          "base_uri": "https://localhost:8080/",
          "height": 35
        },
        "id": "6lVxrpNL8kxo",
        "outputId": "2bb51886-48d4-4515-d90c-3a173c2eeb51"
      },
      "execution_count": 50,
      "outputs": [
        {
          "output_type": "execute_result",
          "data": {
            "application/vnd.google.colaboratory.intrinsic+json": {
              "type": "string"
            },
            "text/plain": [
              "'../gdrive/MyDrive/Collaborative_Filtering/checkpoints1646234684.zip'"
            ]
          },
          "metadata": {},
          "execution_count": 50
        }
      ]
    },
    {
      "cell_type": "code",
      "source": [
        "files.download(f'runs{timestamp}.zip')\n",
        "files.download(f'checkpoints{timestamp}.zip')"
      ],
      "metadata": {
        "id": "-pFl3My_J3ma"
      },
      "execution_count": null,
      "outputs": []
    },
    {
      "cell_type": "code",
      "source": [
        "# shutil.rmtree('runs'); os.mkdir('runs')\n",
        "# shutil.rmtree('checkpoints'); os.mkdir('checkpoints')"
      ],
      "metadata": {
        "id": "BgYYSnQSOnHB"
      },
      "execution_count": 53,
      "outputs": []
    }
  ]
}