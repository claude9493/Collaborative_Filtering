{
  "nbformat": 4,
  "nbformat_minor": 0,
  "metadata": {
    "colab": {
      "name": "CF.ipynb",
      "provenance": [],
      "collapsed_sections": [],
      "include_colab_link": true
    },
    "kernelspec": {
      "name": "python3",
      "display_name": "Python 3"
    },
    "language_info": {
      "name": "python"
    },
    "accelerator": "GPU"
  },
  "cells": [
    {
      "cell_type": "markdown",
      "metadata": {
        "id": "view-in-github",
        "colab_type": "text"
      },
      "source": [
        "<a href=\"https://colab.research.google.com/github/claude9493/Collaborative_Filtering/blob/master/src/colab.ipynb\" target=\"_parent\"><img src=\"https://colab.research.google.com/assets/colab-badge.svg\" alt=\"Open In Colab\"/></a>"
      ]
    },
    {
      "cell_type": "code",
      "source": [
        "!git clone https://github.com/claude9493/Collaborative_Filtering.git\n",
        "!mv ./Collaborative_Filtering/src/ ./\n",
        "%cd src\n",
        "!mkdir {runs,checkpoints}"
      ],
      "metadata": {
        "id": "qd5gPhtRVE_8"
      },
      "execution_count": null,
      "outputs": []
    },
    {
      "cell_type": "code",
      "source": [
        "import time\n",
        "import shutil\n",
        "from google.colab import files, drive\n",
        "drive.mount('/content/gdrive')"
      ],
      "metadata": {
        "colab": {
          "base_uri": "https://localhost:8080/"
        },
        "id": "LjIu8nVgGAeH",
        "outputId": "76da1a8e-3405-4e0e-a555-ca5ed99ff694"
      },
      "execution_count": 43,
      "outputs": [
        {
          "output_type": "stream",
          "name": "stdout",
          "text": [
            "Drive already mounted at /content/gdrive; to attempt to forcibly remount, call drive.mount(\"/content/gdrive\", force_remount=True).\n"
          ]
        }
      ]
    },
    {
      "cell_type": "code",
      "source": [
        "!python train.py --model mf --epoch 50"
      ],
      "metadata": {
        "colab": {
          "base_uri": "https://localhost:8080/"
        },
        "id": "Wr5WYOZmaw7-",
        "outputId": "b67275d8-1c5f-4fb8-c565-8d237d6f875e"
      },
      "execution_count": 54,
      "outputs": [
        {
          "output_type": "stream",
          "name": "stdout",
          "text": [
            "Range of userId is [0, 6039]\n",
            "Range of itemId is [0, 3705]\n",
            "The mf model is to be trained.\n",
            "use_cuda is set to be True.\n",
            "/content/src/metrics.py:57: SettingWithCopyWarning: \n",
            "A value is trying to be set on a copy of a slice from a DataFrame.\n",
            "Try using .loc[row_indexer,col_indexer] = value instead\n",
            "\n",
            "See the caveats in the documentation: https://pandas.pydata.org/pandas-docs/stable/user_guide/indexing.html#returning-a-view-versus-a-copy\n",
            "  test_in_top_k['ndcg'] = test_in_top_k['rank'].apply(lambda x: math.log(2) / math.log(1 + x)) # the rank starts from 1\n",
            "[Evluating Epoch 0] HR = 0.1679, NDCG = 0.0767\n",
            "[Evluating Epoch 1] HR = 0.4313, NDCG = 0.2288\n",
            "[Evluating Epoch 2] HR = 0.4995, NDCG = 0.2726\n",
            "[Evluating Epoch 3] HR = 0.5576, NDCG = 0.3096\n",
            "[Evluating Epoch 4] HR = 0.5962, NDCG = 0.3351\n",
            "[Evluating Epoch 5] HR = 0.6235, NDCG = 0.3556\n",
            "[Evluating Epoch 6] HR = 0.6346, NDCG = 0.3685\n",
            "[Evluating Epoch 7] HR = 0.6487, NDCG = 0.3756\n",
            "[Evluating Epoch 8] HR = 0.6550, NDCG = 0.3837\n",
            "[Evluating Epoch 9] HR = 0.6581, NDCG = 0.3883\n",
            "[Evluating Epoch 10] HR = 0.6642, NDCG = 0.3941\n",
            "[Evluating Epoch 11] HR = 0.6672, NDCG = 0.3981\n",
            "[Evluating Epoch 12] HR = 0.6704, NDCG = 0.3996\n",
            "[Evluating Epoch 13] HR = 0.6753, NDCG = 0.3992\n",
            "[Evluating Epoch 14] HR = 0.6786, NDCG = 0.4028\n",
            "[Evluating Epoch 15] HR = 0.6738, NDCG = 0.4017\n",
            "[Evluating Epoch 16] HR = 0.6762, NDCG = 0.4054\n",
            "[Evluating Epoch 17] HR = 0.6815, NDCG = 0.4072\n",
            "[Evluating Epoch 18] HR = 0.6831, NDCG = 0.4070\n",
            "[Evluating Epoch 19] HR = 0.6821, NDCG = 0.4079\n",
            "[Evluating Epoch 20] HR = 0.6816, NDCG = 0.4080\n",
            "[Evluating Epoch 21] HR = 0.6825, NDCG = 0.4074\n",
            "[Evluating Epoch 22] HR = 0.6839, NDCG = 0.4060\n",
            "[Evluating Epoch 23] HR = 0.6801, NDCG = 0.4063\n",
            "[Evluating Epoch 24] HR = 0.6833, NDCG = 0.4067\n",
            "[Evluating Epoch 25] HR = 0.6815, NDCG = 0.4061\n",
            "[Evluating Epoch 26] HR = 0.6825, NDCG = 0.4099\n",
            "[Evluating Epoch 27] HR = 0.6813, NDCG = 0.4086\n",
            "[Evluating Epoch 28] HR = 0.6800, NDCG = 0.4052\n",
            "[Evluating Epoch 29] HR = 0.6810, NDCG = 0.4091\n",
            "[Evluating Epoch 30] HR = 0.6798, NDCG = 0.4083\n",
            "[Evluating Epoch 31] HR = 0.6849, NDCG = 0.4080\n",
            "[Evluating Epoch 32] HR = 0.6861, NDCG = 0.4104\n",
            "[Evluating Epoch 33] HR = 0.6815, NDCG = 0.4074\n",
            "[Evluating Epoch 34] HR = 0.6773, NDCG = 0.4031\n",
            "[Evluating Epoch 35] HR = 0.6821, NDCG = 0.4070\n",
            "[Evluating Epoch 36] HR = 0.6843, NDCG = 0.4101\n",
            "[Evluating Epoch 37] HR = 0.6808, NDCG = 0.4067\n",
            "[Evluating Epoch 38] HR = 0.6846, NDCG = 0.4077\n",
            "[Evluating Epoch 39] HR = 0.6800, NDCG = 0.4083\n",
            "[Evluating Epoch 40] HR = 0.6838, NDCG = 0.4080\n",
            "[Evluating Epoch 41] HR = 0.6851, NDCG = 0.4087\n",
            "[Evluating Epoch 42] HR = 0.6815, NDCG = 0.4062\n",
            "[Evluating Epoch 43] HR = 0.6806, NDCG = 0.4054\n",
            "[Evluating Epoch 44] HR = 0.6801, NDCG = 0.4062\n",
            "[Evluating Epoch 45] HR = 0.6859, NDCG = 0.4078\n",
            "[Evluating Epoch 46] HR = 0.6853, NDCG = 0.4062\n",
            "[Evluating Epoch 47] HR = 0.6815, NDCG = 0.4075\n",
            "[Evluating Epoch 48] HR = 0.6825, NDCG = 0.4078\n",
            "[Evluating Epoch 49] HR = 0.6853, NDCG = 0.4110\n"
          ]
        }
      ]
    },
    {
      "cell_type": "code",
      "source": [
        "timestamp = int(time.time())\n",
        "shutil.make_archive(f'runs{timestamp}', 'zip', 'runs')\n",
        "shutil.make_archive(f'checkpoints{timestamp}', 'zip', 'checkpoints')\n",
        "\n",
        "shutil.copy(f'runs{timestamp}.zip', '../gdrive/MyDrive/Collaborative_Filtering/')\n",
        "shutil.copy(f'checkpoints{timestamp}.zip', '../gdrive/MyDrive/Collaborative_Filtering/')"
      ],
      "metadata": {
        "colab": {
          "base_uri": "https://localhost:8080/",
          "height": 35
        },
        "id": "6lVxrpNL8kxo",
        "outputId": "8c12b64a-a17e-4a3a-870b-8f21d6a6cbaa"
      },
      "execution_count": 55,
      "outputs": [
        {
          "output_type": "execute_result",
          "data": {
            "application/vnd.google.colaboratory.intrinsic+json": {
              "type": "string"
            },
            "text/plain": [
              "'../gdrive/MyDrive/Collaborative_Filtering/checkpoints1646239443.zip'"
            ]
          },
          "metadata": {},
          "execution_count": 55
        }
      ]
    },
    {
      "cell_type": "code",
      "source": [
        "files.download(f'runs{timestamp}.zip')\n",
        "files.download(f'checkpoints{timestamp}.zip')"
      ],
      "metadata": {
        "colab": {
          "base_uri": "https://localhost:8080/",
          "height": 34
        },
        "id": "-pFl3My_J3ma",
        "outputId": "14ab6c57-2915-4c07-a0d1-4e2bd7a48ec9"
      },
      "execution_count": 56,
      "outputs": [
        {
          "output_type": "display_data",
          "data": {
            "application/javascript": [
              "\n",
              "    async function download(id, filename, size) {\n",
              "      if (!google.colab.kernel.accessAllowed) {\n",
              "        return;\n",
              "      }\n",
              "      const div = document.createElement('div');\n",
              "      const label = document.createElement('label');\n",
              "      label.textContent = `Downloading \"${filename}\": `;\n",
              "      div.appendChild(label);\n",
              "      const progress = document.createElement('progress');\n",
              "      progress.max = size;\n",
              "      div.appendChild(progress);\n",
              "      document.body.appendChild(div);\n",
              "\n",
              "      const buffers = [];\n",
              "      let downloaded = 0;\n",
              "\n",
              "      const channel = await google.colab.kernel.comms.open(id);\n",
              "      // Send a message to notify the kernel that we're ready.\n",
              "      channel.send({})\n",
              "\n",
              "      for await (const message of channel.messages) {\n",
              "        // Send a message to notify the kernel that we're ready.\n",
              "        channel.send({})\n",
              "        if (message.buffers) {\n",
              "          for (const buffer of message.buffers) {\n",
              "            buffers.push(buffer);\n",
              "            downloaded += buffer.byteLength;\n",
              "            progress.value = downloaded;\n",
              "          }\n",
              "        }\n",
              "      }\n",
              "      const blob = new Blob(buffers, {type: 'application/binary'});\n",
              "      const a = document.createElement('a');\n",
              "      a.href = window.URL.createObjectURL(blob);\n",
              "      a.download = filename;\n",
              "      div.appendChild(a);\n",
              "      a.click();\n",
              "      div.remove();\n",
              "    }\n",
              "  "
            ],
            "text/plain": [
              "<IPython.core.display.Javascript object>"
            ]
          },
          "metadata": {}
        },
        {
          "output_type": "display_data",
          "data": {
            "application/javascript": [
              "download(\"download_4f75468c-a790-4939-910b-a0ef8f5345d1\", \"runs1646239443.zip\", 3298)"
            ],
            "text/plain": [
              "<IPython.core.display.Javascript object>"
            ]
          },
          "metadata": {}
        },
        {
          "output_type": "display_data",
          "data": {
            "application/javascript": [
              "\n",
              "    async function download(id, filename, size) {\n",
              "      if (!google.colab.kernel.accessAllowed) {\n",
              "        return;\n",
              "      }\n",
              "      const div = document.createElement('div');\n",
              "      const label = document.createElement('label');\n",
              "      label.textContent = `Downloading \"${filename}\": `;\n",
              "      div.appendChild(label);\n",
              "      const progress = document.createElement('progress');\n",
              "      progress.max = size;\n",
              "      div.appendChild(progress);\n",
              "      document.body.appendChild(div);\n",
              "\n",
              "      const buffers = [];\n",
              "      let downloaded = 0;\n",
              "\n",
              "      const channel = await google.colab.kernel.comms.open(id);\n",
              "      // Send a message to notify the kernel that we're ready.\n",
              "      channel.send({})\n",
              "\n",
              "      for await (const message of channel.messages) {\n",
              "        // Send a message to notify the kernel that we're ready.\n",
              "        channel.send({})\n",
              "        if (message.buffers) {\n",
              "          for (const buffer of message.buffers) {\n",
              "            buffers.push(buffer);\n",
              "            downloaded += buffer.byteLength;\n",
              "            progress.value = downloaded;\n",
              "          }\n",
              "        }\n",
              "      }\n",
              "      const blob = new Blob(buffers, {type: 'application/binary'});\n",
              "      const a = document.createElement('a');\n",
              "      a.href = window.URL.createObjectURL(blob);\n",
              "      a.download = filename;\n",
              "      div.appendChild(a);\n",
              "      a.click();\n",
              "      div.remove();\n",
              "    }\n",
              "  "
            ],
            "text/plain": [
              "<IPython.core.display.Javascript object>"
            ]
          },
          "metadata": {}
        },
        {
          "output_type": "display_data",
          "data": {
            "application/javascript": [
              "download(\"download_6c0c3f89-6fe2-4075-8edf-7a48d48797de\", \"checkpoints1646239443.zip\", 28975572)"
            ],
            "text/plain": [
              "<IPython.core.display.Javascript object>"
            ]
          },
          "metadata": {}
        }
      ]
    },
    {
      "cell_type": "code",
      "source": [
        "# shutil.rmtree('runs'); os.mkdir('runs')\n",
        "# shutil.rmtree('checkpoints'); os.mkdir('checkpoints')"
      ],
      "metadata": {
        "id": "BgYYSnQSOnHB"
      },
      "execution_count": 53,
      "outputs": []
    }
  ]
}