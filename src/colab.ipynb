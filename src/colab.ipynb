{
  "nbformat": 4,
  "nbformat_minor": 0,
  "metadata": {
    "colab": {
      "name": "CF.ipynb",
      "provenance": [],
      "collapsed_sections": [],
      "include_colab_link": true
    },
    "kernelspec": {
      "name": "python3",
      "display_name": "Python 3"
    },
    "language_info": {
      "name": "python"
    },
    "accelerator": "GPU"
  },
  "cells": [
    {
      "cell_type": "markdown",
      "metadata": {
        "id": "view-in-github",
        "colab_type": "text"
      },
      "source": [
        "<a href=\"https://colab.research.google.com/github/claude9493/Collaborative_Filtering/blob/master/src/colab.ipynb\" target=\"_parent\"><img src=\"https://colab.research.google.com/assets/colab-badge.svg\" alt=\"Open In Colab\"/></a>"
      ]
    },
    {
      "cell_type": "code",
      "source": [
        "!rm -r Collaborative_Filtering"
      ],
      "metadata": {
        "id": "dLDvefe2gnnD"
      },
      "execution_count": 4,
      "outputs": []
    },
    {
      "cell_type": "code",
      "source": [
        "!git clone https://github.com/claude9493/Collaborative_Filtering.git\n",
        "!mv ./Collaborative_Filtering/src/ ./\n",
        "%cd src\n",
        "!mkdir {runs,checkpoints}"
      ],
      "metadata": {
        "id": "qd5gPhtRVE_8",
        "outputId": "745c76b4-4460-4146-bcdf-e26e067e5f34",
        "colab": {
          "base_uri": "https://localhost:8080/"
        }
      },
      "execution_count": 5,
      "outputs": [
        {
          "output_type": "stream",
          "name": "stdout",
          "text": [
            "Cloning into 'Collaborative_Filtering'...\n",
            "remote: Enumerating objects: 57, done.\u001b[K\n",
            "remote: Counting objects: 100% (57/57), done.\u001b[K\n",
            "remote: Compressing objects: 100% (34/34), done.\u001b[K\n",
            "remote: Total 57 (delta 19), reused 41 (delta 13), pack-reused 0\u001b[K\n",
            "Unpacking objects: 100% (57/57), done.\n",
            "/content/src\n"
          ]
        }
      ]
    },
    {
      "cell_type": "code",
      "source": [
        "import time\n",
        "import shutil\n",
        "from google.colab import files, drive\n",
        "drive.mount('/content/gdrive')"
      ],
      "metadata": {
        "colab": {
          "base_uri": "https://localhost:8080/"
        },
        "id": "LjIu8nVgGAeH",
        "outputId": "de7684f8-10cf-49cf-d9ec-55cf2b56ceb6"
      },
      "execution_count": 6,
      "outputs": [
        {
          "output_type": "stream",
          "name": "stdout",
          "text": [
            "Drive already mounted at /content/gdrive; to attempt to forcibly remount, call drive.mount(\"/content/gdrive\", force_remount=True).\n"
          ]
        }
      ]
    },
    {
      "cell_type": "code",
      "source": [
        "!pip install tensorboardX"
      ],
      "metadata": {
        "id": "K-Bp0fUleM4Y",
        "outputId": "4f84c74f-781f-44dc-870b-cc15b827be53",
        "colab": {
          "base_uri": "https://localhost:8080/"
        }
      },
      "execution_count": 7,
      "outputs": [
        {
          "output_type": "stream",
          "name": "stdout",
          "text": [
            "Requirement already satisfied: tensorboardX in /usr/local/lib/python3.7/dist-packages (2.5)\n",
            "Requirement already satisfied: six in /usr/local/lib/python3.7/dist-packages (from tensorboardX) (1.15.0)\n",
            "Requirement already satisfied: protobuf>=3.8.0 in /usr/local/lib/python3.7/dist-packages (from tensorboardX) (3.17.3)\n",
            "Requirement already satisfied: numpy in /usr/local/lib/python3.7/dist-packages (from tensorboardX) (1.21.5)\n"
          ]
        }
      ]
    },
    {
      "cell_type": "code",
      "source": [
        "!python train.py --model mlp --epoch 50"
      ],
      "metadata": {
        "colab": {
          "base_uri": "https://localhost:8080/"
        },
        "id": "Wr5WYOZmaw7-",
        "outputId": "d14b4142-0be5-401c-ad20-9dd20f9b875c"
      },
      "execution_count": 23,
      "outputs": [
        {
          "output_type": "stream",
          "name": "stdout",
          "text": [
            "Range of userId is [0, 6039]\n",
            "Range of itemId is [0, 3705]\n",
            "The mlp model is to be trained.\n",
            "MLP(\n",
            "  (embedding_user): Embedding(6040, 16)\n",
            "  (embedding_item): Embedding(3706, 16)\n",
            "  (fc_layers): ModuleList(\n",
            "    (0): Linear(in_features=32, out_features=64, bias=True)\n",
            "    (1): Linear(in_features=64, out_features=32, bias=True)\n",
            "    (2): Linear(in_features=32, out_features=16, bias=True)\n",
            "    (3): Linear(in_features=16, out_features=8, bias=True)\n",
            "  )\n",
            "  (affine_output): Linear(in_features=8, out_features=1, bias=True)\n",
            "  (logistic): Sigmoid()\n",
            ")\n",
            "/content/src/metrics.py:57: SettingWithCopyWarning: \n",
            "A value is trying to be set on a copy of a slice from a DataFrame.\n",
            "Try using .loc[row_indexer,col_indexer] = value instead\n",
            "\n",
            "See the caveats in the documentation: https://pandas.pydata.org/pandas-docs/stable/user_guide/indexing.html#returning-a-view-versus-a-copy\n",
            "  test_in_top_k['ndcg'] = test_in_top_k['rank'].apply(lambda x: math.log(2) / math.log(1 + x)) # the rank starts from 1\n",
            "[Evluating Epoch 0] HR = 0.4467, NDCG = 0.2479\n",
            "[Evluating Epoch 1] HR = 0.4490, NDCG = 0.2513\n",
            "[Evluating Epoch 2] HR = 0.4478, NDCG = 0.2488\n",
            "[Evluating Epoch 3] HR = 0.4745, NDCG = 0.2648\n",
            "[Evluating Epoch 4] HR = 0.5063, NDCG = 0.2791\n",
            "[Evluating Epoch 5] HR = 0.5290, NDCG = 0.2943\n",
            "[Evluating Epoch 6] HR = 0.5469, NDCG = 0.3066\n",
            "[Evluating Epoch 7] HR = 0.5553, NDCG = 0.3116\n",
            "[Evluating Epoch 8] HR = 0.5601, NDCG = 0.3138\n",
            "[Evluating Epoch 9] HR = 0.5671, NDCG = 0.3208\n",
            "[Evluating Epoch 10] HR = 0.5728, NDCG = 0.3227\n",
            "[Evluating Epoch 11] HR = 0.5793, NDCG = 0.3283\n",
            "[Evluating Epoch 12] HR = 0.5844, NDCG = 0.3306\n",
            "[Evluating Epoch 13] HR = 0.5887, NDCG = 0.3339\n",
            "[Evluating Epoch 14] HR = 0.5894, NDCG = 0.3364\n",
            "[Evluating Epoch 15] HR = 0.5940, NDCG = 0.3385\n",
            "[Evluating Epoch 16] HR = 0.6005, NDCG = 0.3389\n",
            "[Evluating Epoch 17] HR = 0.6058, NDCG = 0.3433\n",
            "[Evluating Epoch 18] HR = 0.6060, NDCG = 0.3433\n",
            "[Evluating Epoch 19] HR = 0.6111, NDCG = 0.3478\n",
            "[Evluating Epoch 20] HR = 0.6126, NDCG = 0.3487\n",
            "[Evluating Epoch 21] HR = 0.6124, NDCG = 0.3487\n",
            "[Evluating Epoch 22] HR = 0.6137, NDCG = 0.3524\n",
            "[Evluating Epoch 23] HR = 0.6159, NDCG = 0.3575\n",
            "[Evluating Epoch 24] HR = 0.6141, NDCG = 0.3547\n",
            "[Evluating Epoch 25] HR = 0.6248, NDCG = 0.3618\n",
            "[Evluating Epoch 26] HR = 0.6280, NDCG = 0.3620\n",
            "[Evluating Epoch 27] HR = 0.6293, NDCG = 0.3616\n",
            "[Evluating Epoch 28] HR = 0.6257, NDCG = 0.3606\n",
            "[Evluating Epoch 29] HR = 0.6270, NDCG = 0.3625\n",
            "[Evluating Epoch 30] HR = 0.6306, NDCG = 0.3654\n",
            "[Evluating Epoch 31] HR = 0.6329, NDCG = 0.3690\n",
            "[Evluating Epoch 32] HR = 0.6306, NDCG = 0.3696\n",
            "[Evluating Epoch 33] HR = 0.6366, NDCG = 0.3723\n",
            "[Evluating Epoch 34] HR = 0.6343, NDCG = 0.3702\n",
            "[Evluating Epoch 35] HR = 0.6382, NDCG = 0.3712\n",
            "[Evluating Epoch 36] HR = 0.6361, NDCG = 0.3737\n",
            "[Evluating Epoch 37] HR = 0.6391, NDCG = 0.3751\n",
            "[Evluating Epoch 38] HR = 0.6377, NDCG = 0.3736\n",
            "[Evluating Epoch 39] HR = 0.6425, NDCG = 0.3770\n",
            "[Evluating Epoch 40] HR = 0.6422, NDCG = 0.3777\n",
            "[Evluating Epoch 41] HR = 0.6427, NDCG = 0.3783\n",
            "[Evluating Epoch 42] HR = 0.6449, NDCG = 0.3770\n",
            "[Evluating Epoch 43] HR = 0.6467, NDCG = 0.3786\n",
            "[Evluating Epoch 44] HR = 0.6480, NDCG = 0.3794\n",
            "[Evluating Epoch 45] HR = 0.6424, NDCG = 0.3791\n",
            "[Evluating Epoch 46] HR = 0.6449, NDCG = 0.3758\n",
            "[Evluating Epoch 47] HR = 0.6402, NDCG = 0.3743\n",
            "[Evluating Epoch 48] HR = 0.6477, NDCG = 0.3788\n",
            "[Evluating Epoch 49] HR = 0.6488, NDCG = 0.3821\n"
          ]
        }
      ]
    },
    {
      "cell_type": "code",
      "source": [
        "%pwd"
      ],
      "metadata": {
        "id": "eqtmXvN18QTi",
        "outputId": "ef7d779d-2973-473c-845e-abf73c04b9ef",
        "colab": {
          "base_uri": "https://localhost:8080/",
          "height": 35
        }
      },
      "execution_count": 9,
      "outputs": [
        {
          "output_type": "execute_result",
          "data": {
            "application/vnd.google.colaboratory.intrinsic+json": {
              "type": "string"
            },
            "text/plain": [
              "'/content/src'"
            ]
          },
          "metadata": {},
          "execution_count": 9
        }
      ]
    },
    {
      "cell_type": "code",
      "source": [
        "timestamp = int(time.time())\n",
        "shutil.make_archive(f'runs{timestamp}', 'zip', 'runs')\n",
        "shutil.make_archive(f'checkpoints{timestamp}', 'zip', 'checkpoints')\n",
        "\n",
        "shutil.copy(f'runs{timestamp}.zip', '../gdrive/MyDrive/Collaborative_Filtering/archive/')\n",
        "shutil.copy(f'checkpoints{timestamp}.zip', '../gdrive/MyDrive/Collaborative_Filtering/archive/')"
      ],
      "metadata": {
        "colab": {
          "base_uri": "https://localhost:8080/",
          "height": 35
        },
        "id": "6lVxrpNL8kxo",
        "outputId": "bb2ad8fc-c486-4823-d2ef-08068dbe2dae"
      },
      "execution_count": 24,
      "outputs": [
        {
          "output_type": "execute_result",
          "data": {
            "application/vnd.google.colaboratory.intrinsic+json": {
              "type": "string"
            },
            "text/plain": [
              "'../gdrive/MyDrive/Collaborative_Filtering/checkpoints1646302112.zip'"
            ]
          },
          "metadata": {},
          "execution_count": 24
        }
      ]
    },
    {
      "cell_type": "code",
      "source": [
        "files.download(f'runs{timestamp}.zip')\n",
        "files.download(f'checkpoints{timestamp}.zip')"
      ],
      "metadata": {
        "colab": {
          "base_uri": "https://localhost:8080/",
          "height": 34
        },
        "id": "-pFl3My_J3ma",
        "outputId": "74c61790-7176-47fb-9a4a-f07e0a655617"
      },
      "execution_count": 25,
      "outputs": [
        {
          "output_type": "display_data",
          "data": {
            "application/javascript": [
              "\n",
              "    async function download(id, filename, size) {\n",
              "      if (!google.colab.kernel.accessAllowed) {\n",
              "        return;\n",
              "      }\n",
              "      const div = document.createElement('div');\n",
              "      const label = document.createElement('label');\n",
              "      label.textContent = `Downloading \"${filename}\": `;\n",
              "      div.appendChild(label);\n",
              "      const progress = document.createElement('progress');\n",
              "      progress.max = size;\n",
              "      div.appendChild(progress);\n",
              "      document.body.appendChild(div);\n",
              "\n",
              "      const buffers = [];\n",
              "      let downloaded = 0;\n",
              "\n",
              "      const channel = await google.colab.kernel.comms.open(id);\n",
              "      // Send a message to notify the kernel that we're ready.\n",
              "      channel.send({})\n",
              "\n",
              "      for await (const message of channel.messages) {\n",
              "        // Send a message to notify the kernel that we're ready.\n",
              "        channel.send({})\n",
              "        if (message.buffers) {\n",
              "          for (const buffer of message.buffers) {\n",
              "            buffers.push(buffer);\n",
              "            downloaded += buffer.byteLength;\n",
              "            progress.value = downloaded;\n",
              "          }\n",
              "        }\n",
              "      }\n",
              "      const blob = new Blob(buffers, {type: 'application/binary'});\n",
              "      const a = document.createElement('a');\n",
              "      a.href = window.URL.createObjectURL(blob);\n",
              "      a.download = filename;\n",
              "      div.appendChild(a);\n",
              "      a.click();\n",
              "      div.remove();\n",
              "    }\n",
              "  "
            ],
            "text/plain": [
              "<IPython.core.display.Javascript object>"
            ]
          },
          "metadata": {}
        },
        {
          "output_type": "display_data",
          "data": {
            "application/javascript": [
              "download(\"download_186c76cd-1211-4676-8ed0-150ef333af1a\", \"runs1646302112.zip\", 3555)"
            ],
            "text/plain": [
              "<IPython.core.display.Javascript object>"
            ]
          },
          "metadata": {}
        },
        {
          "output_type": "display_data",
          "data": {
            "application/javascript": [
              "\n",
              "    async function download(id, filename, size) {\n",
              "      if (!google.colab.kernel.accessAllowed) {\n",
              "        return;\n",
              "      }\n",
              "      const div = document.createElement('div');\n",
              "      const label = document.createElement('label');\n",
              "      label.textContent = `Downloading \"${filename}\": `;\n",
              "      div.appendChild(label);\n",
              "      const progress = document.createElement('progress');\n",
              "      progress.max = size;\n",
              "      div.appendChild(progress);\n",
              "      document.body.appendChild(div);\n",
              "\n",
              "      const buffers = [];\n",
              "      let downloaded = 0;\n",
              "\n",
              "      const channel = await google.colab.kernel.comms.open(id);\n",
              "      // Send a message to notify the kernel that we're ready.\n",
              "      channel.send({})\n",
              "\n",
              "      for await (const message of channel.messages) {\n",
              "        // Send a message to notify the kernel that we're ready.\n",
              "        channel.send({})\n",
              "        if (message.buffers) {\n",
              "          for (const buffer of message.buffers) {\n",
              "            buffers.push(buffer);\n",
              "            downloaded += buffer.byteLength;\n",
              "            progress.value = downloaded;\n",
              "          }\n",
              "        }\n",
              "      }\n",
              "      const blob = new Blob(buffers, {type: 'application/binary'});\n",
              "      const a = document.createElement('a');\n",
              "      a.href = window.URL.createObjectURL(blob);\n",
              "      a.download = filename;\n",
              "      div.appendChild(a);\n",
              "      a.click();\n",
              "      div.remove();\n",
              "    }\n",
              "  "
            ],
            "text/plain": [
              "<IPython.core.display.Javascript object>"
            ]
          },
          "metadata": {}
        },
        {
          "output_type": "display_data",
          "data": {
            "application/javascript": [
              "download(\"download_a8ed0e80-87f6-44b0-b6ea-e79833aa01f6\", \"checkpoints1646302112.zip\", 29869074)"
            ],
            "text/plain": [
              "<IPython.core.display.Javascript object>"
            ]
          },
          "metadata": {}
        }
      ]
    },
    {
      "cell_type": "code",
      "source": [
        "# import os\n",
        "# shutil.rmtree('runs'); os.mkdir('runs')\n",
        "# shutil.rmtree('checkpoints'); os.mkdir('checkpoints')"
      ],
      "metadata": {
        "id": "BgYYSnQSOnHB"
      },
      "execution_count": 26,
      "outputs": []
    },
    {
      "cell_type": "code",
      "source": [
        "import zipfile, os\n",
        "dir_name = '../gdrive/MyDrive/Collaborative_Filtering'\n",
        "for item in os.listdir(dir_name+'/archive'): # loop through items in dir\n",
        "    if item.endswith('.zip'): # check for \".zip\" extension\n",
        "        file_name = dir_name + \"/archive/\" + item # get full path of files\n",
        "        zip_ref = zipfile.ZipFile(file_name) # create zipfile object\n",
        "        if item[:11] == 'checkpoints':\n",
        "            zip_ref.extractall(dir_name + '/checkpoints') # extract file to dir\n",
        "        elif item[:4] == 'runs':\n",
        "            zip_ref.extractall(dir_name + '/runs')\n",
        "        # zip_ref.close() # close file"
      ],
      "metadata": {
        "id": "omOoQ-ikQxat"
      },
      "execution_count": 33,
      "outputs": []
    }
  ]
}